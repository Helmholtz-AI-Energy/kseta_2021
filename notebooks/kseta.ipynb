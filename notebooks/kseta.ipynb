{
 "cells": [
  {
   "cell_type": "markdown",
   "id": "scenic-baseball",
   "metadata": {},
   "source": [
    "## KSETA Topical Courses\n",
    "### GPU Computing with PyTorch - High Performance Computing at KIT\n",
    "----"
   ]
  },
  {
   "cell_type": "markdown",
   "id": "packed-sacrifice",
   "metadata": {},
   "source": [
    "#### Part 1 - Getting to Know PyTorch\n",
    "\n",
    "PyTorch is tensor computation library originally designed "
   ]
  },
  {
   "cell_type": "code",
   "execution_count": null,
   "id": "abandoned-survey",
   "metadata": {},
   "outputs": [],
   "source": [
    "import torch\n",
    "torch.__version__"
   ]
  },
  {
   "cell_type": "markdown",
   "id": "comic-detective",
   "metadata": {},
   "source": [
    "Let us first create a vector from some user-defined data first."
   ]
  },
  {
   "cell_type": "code",
   "execution_count": null,
   "id": "neither-hampton",
   "metadata": {},
   "outputs": [],
   "source": [
    "vector = torch.tensor([0.0, 1.0, -1.0, 3.0])\n",
    "vector"
   ]
  },
  {
   "cell_type": "markdown",
   "id": "neutral-technician",
   "metadata": {},
   "source": [
    "It is also possible to initialize matrices, volumes and higher order tensors. Below you will find a two-dimensional, i.e. matrix, tensor example."
   ]
  },
  {
   "cell_type": "code",
   "execution_count": null,
   "id": "resistant-track",
   "metadata": {},
   "outputs": [],
   "source": [
    "matrix = torch.tensor([\n",
    "    [1, 2, 3],\n",
    "    [6, 5, 4]\n",
    "])\n",
    "matrix"
   ]
  },
  {
   "cell_type": "markdown",
   "id": "biblical-element",
   "metadata": {},
   "source": [
    "PyTorch provides several functions to streamline tensor initialization. It is for example possible to create tensors with uninitialized memory, filled with constant values or random data."
   ]
  },
  {
   "cell_type": "code",
   "execution_count": null,
   "id": "athletic-handbook",
   "metadata": {},
   "outputs": [],
   "source": [
    "random_volume = torch.randn(size=(3, 4, 5))\n",
    "random_volume"
   ]
  },
  {
   "cell_type": "markdown",
   "id": "administrative-illinois",
   "metadata": {},
   "source": [
    "Each PyTorch tensor has metadata associated with it that cannot only be queried, but also be modified in various calls. Some of the most commonly used metadata are a tensors `shape`, i.e. its dimensions, its `dtype`, i.e. the datatype of the elements, as well as the `device`, i.e. the processing device it is allocated on."
   ]
  },
  {
   "cell_type": "code",
   "execution_count": null,
   "id": "sitting-corpus",
   "metadata": {},
   "outputs": [],
   "source": [
    "random_volume.shape, random_volume.dtype, random_volume.device"
   ]
  },
  {
   "cell_type": "code",
   "execution_count": null,
   "id": "optional-perth",
   "metadata": {},
   "outputs": [],
   "source": [
    "matrix.shape, matrix.dtype, matrix.device"
   ]
  },
  {
   "cell_type": "markdown",
   "id": "incorrect-exclusion",
   "metadata": {},
   "source": [
    "The metadata values can also be manipulated, e.g. by changing the datatype or adjusting the shape. In the following code snippet, we change the dimensionality of a one-dimensional vector into a two dimensional matrix."
   ]
  },
  {
   "cell_type": "code",
   "execution_count": null,
   "id": "another-egypt",
   "metadata": {},
   "outputs": [],
   "source": [
    "vector = torch.arange(10)\n",
    "vector.reshape(5, 2)"
   ]
  },
  {
   "cell_type": "markdown",
   "id": "educated-vertex",
   "metadata": {},
   "source": [
    "**Task 1:** try creating a tensor of data with the following dimensions `(100, 2, 2, 3)` and fill it with uniformly distributed `float64` values. Make use of PyTorch's `rand()` function for this."
   ]
  },
  {
   "cell_type": "code",
   "execution_count": null,
   "id": "short-trader",
   "metadata": {},
   "outputs": [],
   "source": [
    "### TODO"
   ]
  },
  {
   "cell_type": "markdown",
   "id": "polish-optimization",
   "metadata": {},
   "source": [
    "----\n",
    "#### Part 2 - Operations and Equations"
   ]
  },
  {
   "cell_type": "markdown",
   "id": "solved-liberal",
   "metadata": {},
   "source": [
    "PyTorch supports several dozens of tensor operations, including transposing, indexing, slicing, mathematical operations, linear algebra, and more. In the following examples we will have a brief look at them."
   ]
  },
  {
   "cell_type": "code",
   "execution_count": null,
   "id": "cheap-weight",
   "metadata": {},
   "outputs": [],
   "source": [
    "masses = torch.arange(10, dtype=torch.float32)\n",
    "masses"
   ]
  },
  {
   "cell_type": "markdown",
   "id": "inner-rebound",
   "metadata": {},
   "source": [
    "We can add two vectors of same length, resulting in a element-wise operation of the individual vector elements."
   ]
  },
  {
   "cell_type": "code",
   "execution_count": null,
   "id": "prerequisite-pottery",
   "metadata": {},
   "outputs": [],
   "source": [
    "ones = torch.ones(size=(10,))\n",
    "masses + ones"
   ]
  },
  {
   "cell_type": "markdown",
   "id": "mysterious-gardening",
   "metadata": {},
   "source": [
    "**Slicing** allows us to index only parts of the data and continue working with it. The used indices are zero-based, left-inclusive and right-exclusive."
   ]
  },
  {
   "cell_type": "code",
   "execution_count": null,
   "id": "excess-bulgarian",
   "metadata": {},
   "outputs": [],
   "source": [
    "masses[3:5]"
   ]
  },
  {
   "cell_type": "markdown",
   "id": "covered-arnold",
   "metadata": {},
   "source": [
    "We can also formulate conditions, resulting in a boolean mask, which we can use to index data as demonstrated below."
   ]
  },
  {
   "cell_type": "code",
   "execution_count": null,
   "id": "peripheral-peeing",
   "metadata": {},
   "outputs": [],
   "source": [
    "masses > 7, masses[masses > 7]"
   ]
  },
  {
   "cell_type": "markdown",
   "id": "generic-extra",
   "metadata": {},
   "source": [
    "Vectors, matrices, volumes and so forth can also be combined with **scalars**. In this case the scalar in applied element-wise to each tensor element. Let us calculate Earth's gravitational force at ground-level for the previously defined masses."
   ]
  },
  {
   "cell_type": "code",
   "execution_count": null,
   "id": "optical-creature",
   "metadata": {},
   "outputs": [],
   "source": [
    "gravitational_force = masses * 9.81\n",
    "gravitational_force"
   ]
  },
  {
   "cell_type": "markdown",
   "id": "exempt-basics",
   "metadata": {},
   "source": [
    "PyTorch generally repeats operands if their shapes match, i.e. they have the same exact same dimension or the dimension is equal to one. This approach is called **broadcasting**."
   ]
  },
  {
   "cell_type": "code",
   "execution_count": null,
   "id": "novel-waterproof",
   "metadata": {},
   "outputs": [],
   "source": [
    "broadcast = torch.ones(size=(3, 10)) + masses\n",
    "broadcast"
   ]
  },
  {
   "cell_type": "markdown",
   "id": "gorgeous-crash",
   "metadata": {},
   "source": [
    "PyTorch also provides reduction operations that reduce entire tensors or subsets, e.g. columns or row, to singular values. Commonly used reduction operations are `min()`, `max()` or `sum()` for example. Let us have a look at an example:"
   ]
  },
  {
   "cell_type": "code",
   "execution_count": null,
   "id": "entire-assessment",
   "metadata": {},
   "outputs": [],
   "source": [
    "broadcast.sum(dim=0)"
   ]
  },
  {
   "cell_type": "markdown",
   "id": "fresh-modern",
   "metadata": {},
   "source": [
    "Equally higher level operations are available like computing norms, matrix decompositions, or matrix multiplication."
   ]
  },
  {
   "cell_type": "code",
   "execution_count": null,
   "id": "automotive-capitol",
   "metadata": {},
   "outputs": [],
   "source": [
    "torch.arange(10) @ torch.arange(10)"
   ]
  },
  {
   "cell_type": "markdown",
   "id": "portuguese-evolution",
   "metadata": {},
   "source": [
    "**Task 2:** calculate mean and standard deviation along the first dimension for a normal-distributed data of dimensions `(100, 3)` "
   ]
  },
  {
   "cell_type": "code",
   "execution_count": null,
   "id": "compliant-facing",
   "metadata": {},
   "outputs": [],
   "source": [
    "### TODO"
   ]
  },
  {
   "cell_type": "markdown",
   "id": "vital-economics",
   "metadata": {},
   "source": [
    "----\n",
    "#### Part 3 - Using the GPU\n",
    "\n",
    "PyTorch enables you to leverage GPUs to accelerate computations. Particularly well suited-are numerical problems, e.g. linear algebra, with identical operations. Let us get to know PyTorch's `.cuda` submodule a little. First, we should make sure that PyTorch has been properly loaded and initialized the software, here: CUDA, to interact with GPUs."
   ]
  },
  {
   "cell_type": "code",
   "execution_count": null,
   "id": "supreme-hazard",
   "metadata": {},
   "outputs": [],
   "source": [
    "torch.cuda.is_available()"
   ]
  },
  {
   "cell_type": "markdown",
   "id": "portable-module",
   "metadata": {},
   "source": [
    "Everything seems to be in order. CUDA is available to PyTorch. Let us know check how many and what kind of GPUs we can use:"
   ]
  },
  {
   "cell_type": "code",
   "execution_count": null,
   "id": "aboriginal-mustang",
   "metadata": {},
   "outputs": [],
   "source": [
    "torch.cuda.device_count(), torch.cuda.get_device_name()"
   ]
  },
  {
   "cell_type": "markdown",
   "id": "effective-depression",
   "metadata": {},
   "source": [
    "Let us now create a vector of data and move it from CPU to GPU."
   ]
  },
  {
   "cell_type": "code",
   "execution_count": null,
   "id": "invisible-convenience",
   "metadata": {},
   "outputs": [],
   "source": [
    "m = torch.arange(10)\n",
    "m"
   ]
  },
  {
   "cell_type": "markdown",
   "id": "greatest-writing",
   "metadata": {},
   "source": [
    "Let us manually move the data to the GPU now."
   ]
  },
  {
   "cell_type": "code",
   "execution_count": null,
   "id": "clinical-change",
   "metadata": {},
   "outputs": [],
   "source": [
    "m_gpu = m.cuda()\n",
    "m_gpu"
   ]
  },
  {
   "cell_type": "markdown",
   "id": "duplicate-daughter",
   "metadata": {},
   "source": [
    "Analogous to our previous usage of PyTorch, we can now GPU-accelerate computation by using the exact same interface."
   ]
  },
  {
   "cell_type": "code",
   "execution_count": null,
   "id": "literary-overview",
   "metadata": {},
   "outputs": [],
   "source": [
    "m_gpu.sum()"
   ]
  },
  {
   "cell_type": "markdown",
   "id": "imposed-wheat",
   "metadata": {},
   "source": [
    "PyTorch's library call that make it necessary that the data resides in the CPU's main memory, e.g. printing out values, move data automatically around. Yet, we can also do so manually."
   ]
  },
  {
   "cell_type": "code",
   "execution_count": null,
   "id": "specified-chick",
   "metadata": {},
   "outputs": [],
   "source": [
    "m_gpu.cpu().device"
   ]
  },
  {
   "cell_type": "markdown",
   "id": "novel-newcastle",
   "metadata": {},
   "source": [
    "PyTorch offers several other ways of initializing data directly on the GPU. Below you will find the most common approaches."
   ]
  },
  {
   "cell_type": "code",
   "execution_count": null,
   "id": "romance-introduction",
   "metadata": {},
   "outputs": [],
   "source": [
    "torch.arange(2, device='cuda')"
   ]
  },
  {
   "cell_type": "code",
   "execution_count": null,
   "id": "efficient-sleeping",
   "metadata": {},
   "outputs": [],
   "source": [
    "torch.cuda.FloatTensor([1.0, 2.0])"
   ]
  },
  {
   "cell_type": "code",
   "execution_count": null,
   "id": "different-disney",
   "metadata": {},
   "outputs": [],
   "source": [
    "torch.set_default_tensor_type('torch.cuda.FloatTensor')\n",
    "torch.randn(5).device"
   ]
  },
  {
   "cell_type": "markdown",
   "id": "radical-python",
   "metadata": {},
   "source": [
    "Mixing devices is not possible and will result in an error."
   ]
  },
  {
   "cell_type": "code",
   "execution_count": null,
   "id": "canadian-density",
   "metadata": {},
   "outputs": [],
   "source": [
    "torch.arange(10, device='cuda') + torch.arange(10, device='cpu')"
   ]
  },
  {
   "cell_type": "markdown",
   "id": "accredited-photography",
   "metadata": {},
   "source": [
    "**Task 3:** we can now put all introduced elements together to make actual meaningful computations. For the following example, we load particle decays, simulated using the `phasespace` Python package, from disk and subsequently use PyTorch to compute the *thrust* for each event. The thrust is defined as:\n",
    "\n",
    "$$T=\\max\\limits_{\\vec{n}}\\frac{\\sum_j |\\vec{p}_j\\cdot\\vec{n}|}{\\sum_j |\\vec{p}_j|}$$\n",
    "\n",
    "Where $\\vec{p}_j$ are the particles' momenta and $\\vec{n}$ a vector with norm 1. The vector $\\vec{n}_T$ that maximizes the thrust is called the *thrust axis*. A thrust of $T\\approx\\frac{1}{2}$ implies a spherical momenta distribution, where as $T\\approx 1$ indicates strong jets.\n",
    "\n",
    "Let us download the data first."
   ]
  },
  {
   "cell_type": "code",
   "execution_count": null,
   "id": "medium-mapping",
   "metadata": {},
   "outputs": [],
   "source": [
    "import util\n",
    "decays = util.download_data()\n",
    "decays.shape, decays.device"
   ]
  },
  {
   "cell_type": "markdown",
   "id": "proper-tourism",
   "metadata": {},
   "source": [
    "In this example we have fifty million events, each consisting out of six final-state particles and their three x-, y- and z-momenta. According the formula above we will compute their thrust on the CPU first."
   ]
  },
  {
   "cell_type": "code",
   "execution_count": null,
   "id": "blind-roulette",
   "metadata": {},
   "outputs": [],
   "source": [
    "def compute_thrust(events):\n",
    "    # simplified candidate estimation for n as average of particles\n",
    "    ### TODO\n",
    "    # normalize n to be a unit vector\n",
    "    n_norms = torch.linalg.norm(n, dim=1, keepdim=True)\n",
    "    ### TODO\n",
    "    \n",
    "    # calculate both fraction components\n",
    "    nominator = torch.bmm(events, n.unsqueeze(dim=2)).sum(dim=(1, 2))\n",
    "    denominator = ### TODO\n",
    "    \n",
    "    # calculate thrust\n",
    "    thrust = nominator / denominator\n",
    "    \n",
    "    return thrust"
   ]
  },
  {
   "cell_type": "code",
   "execution_count": null,
   "id": "adverse-musician",
   "metadata": {},
   "outputs": [],
   "source": [
    "%%time\n",
    "thrust = compute_thrust(decays)\n",
    "thrust.min(), thrust.max()"
   ]
  },
  {
   "cell_type": "code",
   "execution_count": null,
   "id": "changing-opinion",
   "metadata": {},
   "outputs": [],
   "source": [
    "%%time\n",
    "thrust = compute_thrust(decays.cuda())\n",
    "thrust.min(), thrust.max()"
   ]
  }
 ],
 "metadata": {
  "kernelspec": {
   "display_name": "Python 3",
   "language": "python",
   "name": "python3"
  },
  "language_info": {
   "codemirror_mode": {
    "name": "ipython",
    "version": 3
   },
   "file_extension": ".py",
   "mimetype": "text/x-python",
   "name": "python",
   "nbconvert_exporter": "python",
   "pygments_lexer": "ipython3",
   "version": "3.6.8"
  }
 },
 "nbformat": 4,
 "nbformat_minor": 5
}
